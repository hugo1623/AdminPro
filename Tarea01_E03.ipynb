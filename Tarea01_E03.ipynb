{
  "nbformat": 4,
  "nbformat_minor": 0,
  "metadata": {
    "colab": {
      "name": "Tarea01_E03.ipynb",
      "provenance": [],
      "authorship_tag": "ABX9TyOwr4B8Jvv4X9MekWPByfZV",
      "include_colab_link": true
    },
    "kernelspec": {
      "name": "python3",
      "display_name": "Python 3"
    },
    "language_info": {
      "name": "python"
    }
  },
  "cells": [
    {
      "cell_type": "markdown",
      "metadata": {
        "id": "view-in-github",
        "colab_type": "text"
      },
      "source": [
        "<a href=\"https://colab.research.google.com/github/hugo1623/AdminPro/blob/master/Tarea01_E03.ipynb\" target=\"_parent\"><img src=\"https://colab.research.google.com/assets/colab-badge.svg\" alt=\"Open In Colab\"/></a>"
      ]
    },
    {
      "cell_type": "markdown",
      "metadata": {
        "id": "TuC5lkOdafBX"
      },
      "source": [
        "**EJERCICIO 3: NUMPY**"
      ]
    },
    {
      "cell_type": "markdown",
      "metadata": {
        "id": "TpDLFloIaoVu"
      },
      "source": [
        "1. Crear un vector con valores dentro del rango 10 a 29"
      ]
    },
    {
      "cell_type": "code",
      "metadata": {
        "id": "RBQ5yM-0aai3"
      },
      "source": [
        "import numpy as np"
      ],
      "execution_count": 1,
      "outputs": []
    },
    {
      "cell_type": "code",
      "metadata": {
        "colab": {
          "base_uri": "https://localhost:8080/"
        },
        "id": "7EDPhG0GeQpz",
        "outputId": "726239a9-5649-49db-d115-b44e1e5c8c3e"
      },
      "source": [
        "array=np.arange(10, 29)\n",
        "array\n"
      ],
      "execution_count": 94,
      "outputs": [
        {
          "output_type": "execute_result",
          "data": {
            "text/plain": [
              "array([10, 11, 12, 13, 14, 15, 16, 17, 18, 19, 20, 21, 22, 23, 24, 25, 26,\n",
              "       27, 28])"
            ]
          },
          "metadata": {},
          "execution_count": 94
        }
      ]
    },
    {
      "cell_type": "markdown",
      "metadata": {
        "id": "hXOCe3Srehar"
      },
      "source": [
        "2. Invertir el vector"
      ]
    },
    {
      "cell_type": "code",
      "metadata": {
        "colab": {
          "base_uri": "https://localhost:8080/"
        },
        "id": "Kjgdx660elXC",
        "outputId": "b9b67933-8d6b-4916-fbfa-568d6e37daab"
      },
      "source": [
        "array[::-1]"
      ],
      "execution_count": 11,
      "outputs": [
        {
          "output_type": "execute_result",
          "data": {
            "text/plain": [
              "array([28, 27, 26, 25, 24, 23, 22, 21, 20, 19, 18, 17, 16, 15, 14, 13, 12,\n",
              "       11, 10])"
            ]
          },
          "metadata": {},
          "execution_count": 11
        }
      ]
    },
    {
      "cell_type": "markdown",
      "metadata": {
        "id": "Yr8q6R-3gI_0"
      },
      "source": [
        "3. Crear una matriz 4x4 con valores de 0 a 15"
      ]
    },
    {
      "cell_type": "code",
      "metadata": {
        "colab": {
          "base_uri": "https://localhost:8080/"
        },
        "id": "_bu80lqmhGTs",
        "outputId": "9ed38b07-6f36-4e6a-ee4b-54059004b245"
      },
      "source": [
        "a = np.array([[0, 1, 2, 3], [4,5, 6, 7], [8,9, 10, 11], [12,13,14,15]])\n",
        "a"
      ],
      "execution_count": 95,
      "outputs": [
        {
          "output_type": "execute_result",
          "data": {
            "text/plain": [
              "array([[ 0,  1,  2,  3],\n",
              "       [ 4,  5,  6,  7],\n",
              "       [ 8,  9, 10, 11],\n",
              "       [12, 13, 14, 15]])"
            ]
          },
          "metadata": {},
          "execution_count": 95
        }
      ]
    },
    {
      "cell_type": "markdown",
      "metadata": {
        "id": "thDCGDPDhsjE"
      },
      "source": [
        "4. Encontrar los índices que no son ceros del arreglo [1,2,4,2,4,0,1,0,0,0,12,4,5,6,7,0]"
      ]
    },
    {
      "cell_type": "code",
      "metadata": {
        "colab": {
          "base_uri": "https://localhost:8080/"
        },
        "id": "gIuuNa3215il",
        "outputId": "ef771351-7630-4469-ddfb-167c1b57a7af"
      },
      "source": [
        "x = np.array([1,2,4,2,4,0,1,0,0,0,12,4,5,6,7,0])\n",
        "np.where(x == 0)[0]"
      ],
      "execution_count": 93,
      "outputs": [
        {
          "output_type": "execute_result",
          "data": {
            "text/plain": [
              "array([ 5,  7,  8,  9, 15])"
            ]
          },
          "metadata": {},
          "execution_count": 93
        }
      ]
    },
    {
      "cell_type": "markdown",
      "metadata": {
        "id": "pMUIJt5ZiG7D"
      },
      "source": [
        "5. Crear una matriz identidad de 8x8"
      ]
    },
    {
      "cell_type": "code",
      "metadata": {
        "colab": {
          "base_uri": "https://localhost:8080/"
        },
        "id": "dJ0gKCUbiOVB",
        "outputId": "c1ef1f84-099e-4fe3-80df-2a5e72a1c65c"
      },
      "source": [
        "a = np.array([[1,0,0,0,0,0,0,0], [0,1,0,0,0,0,0,0], [0,0,1,0,0,0,0,0], [0,0,0,1,0,0,0,0],[0,0,0,0,1,0,0,0], [0,0,0,0,0,1,0,0], [0,0,0,0,0,0,1,0], [0,0,0,0,0,0,0,1]])\n",
        "a"
      ],
      "execution_count": 15,
      "outputs": [
        {
          "output_type": "execute_result",
          "data": {
            "text/plain": [
              "array([[1, 0, 0, 0, 0, 0, 0, 0],\n",
              "       [0, 1, 0, 0, 0, 0, 0, 0],\n",
              "       [0, 0, 1, 0, 0, 0, 0, 0],\n",
              "       [0, 0, 0, 1, 0, 0, 0, 0],\n",
              "       [0, 0, 0, 0, 1, 0, 0, 0],\n",
              "       [0, 0, 0, 0, 0, 1, 0, 0],\n",
              "       [0, 0, 0, 0, 0, 0, 1, 0],\n",
              "       [0, 0, 0, 0, 0, 0, 0, 1]])"
            ]
          },
          "metadata": {},
          "execution_count": 15
        }
      ]
    },
    {
      "cell_type": "code",
      "metadata": {
        "id": "_KGiuGzEgWME"
      },
      "source": [
        "6. Crear una matriz con valores al azar con forma 6x6"
      ],
      "execution_count": null,
      "outputs": []
    },
    {
      "cell_type": "code",
      "metadata": {
        "colab": {
          "base_uri": "https://localhost:8080/"
        },
        "id": "3trrinp9jPsD",
        "outputId": "3096eb38-d4d8-4246-f74d-2eae8f115a75"
      },
      "source": [
        "\n",
        "A = np.random.rand(6,6)\n",
        "A"
      ],
      "execution_count": 31,
      "outputs": [
        {
          "output_type": "execute_result",
          "data": {
            "text/plain": [
              "array([[3.86423695e-01, 1.82854610e-01, 7.79495972e-02, 4.38790525e-04,\n",
              "        4.64614020e-01, 9.54333444e-01],\n",
              "       [1.90931717e-01, 4.71330642e-01, 3.97410148e-01, 5.78578730e-01,\n",
              "        7.78049379e-01, 3.36381526e-01],\n",
              "       [4.88076942e-01, 3.04617075e-01, 9.76217359e-01, 3.26623297e-01,\n",
              "        2.24670735e-02, 9.22715318e-01],\n",
              "       [1.65117564e-01, 5.46505180e-01, 9.10564319e-01, 1.49017486e-01,\n",
              "        7.06230754e-01, 3.42796757e-01],\n",
              "       [8.44143105e-01, 4.90874497e-01, 3.62603483e-01, 4.24353833e-01,\n",
              "        8.52998061e-01, 5.30535401e-01],\n",
              "       [2.96084347e-01, 9.25011291e-01, 2.91042610e-01, 8.53470616e-01,\n",
              "        4.70756328e-01, 7.66512683e-01]])"
            ]
          },
          "metadata": {},
          "execution_count": 31
        }
      ]
    },
    {
      "cell_type": "markdown",
      "metadata": {
        "id": "ywCqDCnzjAKq"
      },
      "source": [
        "7. Encontrar los índices de los valores mínimos y máximos de la anterior matriz"
      ]
    },
    {
      "cell_type": "code",
      "metadata": {
        "colab": {
          "base_uri": "https://localhost:8080/"
        },
        "id": "y68zr3ViloQS",
        "outputId": "22bd633f-0285-42b4-bf78-5b6ae795533e"
      },
      "source": [
        "Min = np.amin(A)\n",
        "Max =np.amax(A)\n",
        "\n",
        "print(\"El valor Minimo es\", Min);\n",
        "print(\"El valor Minimo es\", Max);"
      ],
      "execution_count": 36,
      "outputs": [
        {
          "output_type": "stream",
          "name": "stdout",
          "text": [
            "El valor Minimo es 0.0004387905249425561\n",
            "El valor Minimo es 0.9762173590282469\n"
          ]
        }
      ]
    },
    {
      "cell_type": "code",
      "metadata": {
        "colab": {
          "base_uri": "https://localhost:8080/"
        },
        "id": "4rVshBa5nsPa",
        "outputId": "c705db2b-5114-4123-90e1-6fa4081e5d64"
      },
      "source": [
        "Minimo= np.argmin(A)\n",
        "Maximo= np.argmax(A)\n",
        "print(\"El valor Minimo es\", Minimo);\n",
        "print(\"El valor Minimo es\", Maximo);"
      ],
      "execution_count": 40,
      "outputs": [
        {
          "output_type": "stream",
          "name": "stdout",
          "text": [
            "El valor Minimo es 3\n",
            "El valor Minimo es 14\n"
          ]
        }
      ]
    },
    {
      "cell_type": "markdown",
      "metadata": {
        "id": "qfhOLHInnZDi"
      },
      "source": [
        "8. Crear dos arreglos al azar A y B, verificar si son iguales"
      ]
    },
    {
      "cell_type": "code",
      "metadata": {
        "colab": {
          "base_uri": "https://localhost:8080/"
        },
        "id": "uh4n8q9doj4w",
        "outputId": "9a642f53-c5a8-47da-b255-f5b1062b0044"
      },
      "source": [
        "M = np.random.randint(1,3,5)\n",
        "N = np.random.randint(1,3,5)\n",
        "print(\"El primer Arreglo es  :\", M)\n",
        "print(\"El segundo Arreglo es :\", N)\n",
        "\n",
        "Verificar= np.allclose(M,N)\n",
        "print(\"\\n El arreglo es\", Verificar)"
      ],
      "execution_count": 59,
      "outputs": [
        {
          "output_type": "stream",
          "name": "stdout",
          "text": [
            "El primer Arreglo es  : [2 1 1 2 1]\n",
            "El segundo Arreglo es : [2 2 1 2 1]\n",
            "\n",
            " El arreglo es False\n"
          ]
        }
      ]
    },
    {
      "cell_type": "markdown",
      "metadata": {
        "id": "Kr4hS1RoryRP"
      },
      "source": [
        "9. Escriba un programa NumPy para crear una matriz estructurada a partir del nombre del estudiante, la altura, la clase y sus tipos de datos. Ahora ordena la matriz por altura."
      ]
    },
    {
      "cell_type": "code",
      "metadata": {
        "colab": {
          "base_uri": "https://localhost:8080/"
        },
        "id": "8WtRDPQOy4fn",
        "outputId": "85c4216a-b8ee-4041-d376-9e1956f0db58"
      },
      "source": [
        "matrizx = [\n",
        "    ('estudiante', (np.str_, 10)),\n",
        "    ('altura', np.int32),\n",
        "    ('clase', (np.str_, 10))]\n",
        "  \n",
        "matrizy = np.array([('Hugo', 70, 'M1'),\n",
        "                ('Kyra', 75, 'M1'),\n",
        "                ('Helen', 80, 'M1')],\n",
        "               dtype=matrizx)\n",
        "\n",
        "matrizy"
      ],
      "execution_count": 97,
      "outputs": [
        {
          "output_type": "execute_result",
          "data": {
            "text/plain": [
              "array([('Hugo', 70, 'M1'), ('Kyra', 75, 'M1'), ('Helen', 80, 'M1')],\n",
              "      dtype=[('estudiante', '<U10'), ('altura', '<i4'), ('clase', '<U10')])"
            ]
          },
          "metadata": {},
          "execution_count": 97
        }
      ]
    },
    {
      "cell_type": "markdown",
      "metadata": {
        "id": "q_FoULN9wXYO"
      },
      "source": [
        "10. Escriba un programa NumPy para calcular el histograma de nums contra los bins\n",
        "Salida de muestra:números: [0.5 0.7 1. 1.2 1.3 2.1] bins: [0 1 2 3] Resultado: (matriz ([2, 3, 1], dtype = int64), matriz ([0, 1 , 2, 3]))"
      ]
    },
    {
      "cell_type": "code",
      "metadata": {
        "colab": {
          "base_uri": "https://localhost:8080/"
        },
        "id": "lAvKZW8NweoW",
        "outputId": "0167e729-288d-4fbb-a369-b02540865819"
      },
      "source": [
        "a = [0.5,0.7,1,1.2,1.3,2.1]\n",
        "np.histogram(a, bins = [0, 1, 2, 3])\n",
        "hist, bins = np.histogram(a, bins = [0, 1, 2, 3])\n",
        "print (hist)   \n",
        "print (bins) "
      ],
      "execution_count": 67,
      "outputs": [
        {
          "output_type": "stream",
          "name": "stdout",
          "text": [
            "[2 3 1]\n",
            "[0 1 2 3]\n"
          ]
        }
      ]
    }
  ]
}